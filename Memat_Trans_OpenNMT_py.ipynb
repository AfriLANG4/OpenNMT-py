{
  "nbformat": 4,
  "nbformat_minor": 0,
  "metadata": {
    "colab": {
      "name": "Memat_Trans_OpenNMT-py.ipynb",
      "provenance": [],
      "toc_visible": true,
      "include_colab_link": true
    },
    "kernelspec": {
      "name": "python3",
      "display_name": "Python 3"
    },
    "accelerator": "GPU"
  },
  "cells": [
    {
      "cell_type": "markdown",
      "metadata": {
        "id": "view-in-github",
        "colab_type": "text"
      },
      "source": [
        "<a href=\"https://colab.research.google.com/github/AfriLANG4/OpenNMT-py/blob/master/Memat_Trans_OpenNMT_py.ipynb\" target=\"_parent\"><img src=\"https://colab.research.google.com/assets/colab-badge.svg\" alt=\"Open In Colab\"/></a>"
      ]
    },
    {
      "cell_type": "code",
      "metadata": {
        "id": "rkpjiKilV0w7",
        "colab_type": "code",
        "colab": {}
      },
      "source": [
        "cp -r '/content/OpenNMT-py/memat' '/content/drive/My Drive/Colab Notebooks/OpenNMT-py'"
      ],
      "execution_count": 0,
      "outputs": []
    },
    {
      "cell_type": "markdown",
      "metadata": {
        "id": "Z0wpBsFv97Q6",
        "colab_type": "text"
      },
      "source": [
        "https://github.com/Niger-Volta-LTI/yoruba-adr/blob/master/correct_yoruba_diacritics.ipynb\n",
        "\n",
        "https://github.com/pslmounika/Machine-Translation-Evaluation--BLEU-and-Meteor\n",
        "\n",
        "NMT \n",
        "\n",
        "https://github.com/Parkchanjun/OpenNMT-Colab-Tutorial\n",
        "\n",
        "https://qiita.com/sakaia/items/6b945583349196ea0a3e\n",
        "\n",
        "Attetion Allignment\n",
        "\n",
        "https://github.com/thushv89/attention_keras\n",
        "\n",
        "https://github.com/M4t1ss/SoftAlignments\n",
        "\n",
        "https://bastings.github.io/annotated_encoder_decoder/\n",
        "\n",
        "Bleu Score\n",
        "\n",
        "https://github.com/mjpost/sacreBLEU\n",
        "\n",
        "https://github.com/golsun/NLP-tools\n",
        "\n",
        "Book\n",
        "\n",
        "Learn Python 3 the Hard Way - A Very Simple Introduction to the Terrifyingly Beautiful World of Computers and Code (Paperback)"
      ]
    },
    {
      "cell_type": "markdown",
      "metadata": {
        "id": "i1ywK2OH3dpr",
        "colab_type": "text"
      },
      "source": [
        "##Installation"
      ]
    },
    {
      "cell_type": "code",
      "metadata": {
        "id": "hqpf6quAJNHW",
        "colab_type": "code",
        "colab": {}
      },
      "source": [
        "!pip3 install OpenNMT-py"
      ],
      "execution_count": 0,
      "outputs": []
    },
    {
      "cell_type": "code",
      "metadata": {
        "id": "ztKwPNRoLyLY",
        "colab_type": "code",
        "outputId": "c506dc7e-a97a-430d-a72d-eb6d99eba8fe",
        "colab": {
          "base_uri": "https://localhost:8080/",
          "height": 102
        }
      },
      "source": [
        "!git clone https://github.com/OpenNMT/OpenNMT-py.git"
      ],
      "execution_count": 0,
      "outputs": [
        {
          "output_type": "stream",
          "text": [
            "Cloning into 'OpenNMT-py'...\n",
            "remote: Enumerating objects: 14857, done.\u001b[K\n",
            "remote: Total 14857 (delta 0), reused 0 (delta 0), pack-reused 14857\u001b[K\n",
            "Receiving objects: 100% (14857/14857), 146.16 MiB | 29.50 MiB/s, done.\n",
            "Resolving deltas: 100% (10653/10653), done.\n"
          ],
          "name": "stdout"
        }
      ]
    },
    {
      "cell_type": "code",
      "metadata": {
        "id": "m8v11fr7MaB2",
        "colab_type": "code",
        "outputId": "e151b017-99dc-4264-ea75-19bd10e64390",
        "colab": {
          "base_uri": "https://localhost:8080/",
          "height": 34
        }
      },
      "source": [
        "cd OpenNMT-py"
      ],
      "execution_count": 0,
      "outputs": [
        {
          "output_type": "stream",
          "text": [
            "/content/OpenNMT-py\n"
          ],
          "name": "stdout"
        }
      ]
    },
    {
      "cell_type": "code",
      "metadata": {
        "id": "SeWZDEIhMjzg",
        "colab_type": "code",
        "colab": {}
      },
      "source": [
        "!python3 setup.py install"
      ],
      "execution_count": 0,
      "outputs": []
    },
    {
      "cell_type": "code",
      "metadata": {
        "id": "mpEJ2LvxNc-w",
        "colab_type": "code",
        "outputId": "23c21215-4796-40db-81b7-fd92c6ab614b",
        "colab": {
          "base_uri": "https://localhost:8080/",
          "height": 122
        }
      },
      "source": [
        "from google.colab import drive\n",
        "drive.mount('/content/drive')"
      ],
      "execution_count": 0,
      "outputs": [
        {
          "output_type": "stream",
          "text": [
            "Go to this URL in a browser: https://accounts.google.com/o/oauth2/auth?client_id=947318989803-6bn6qk8qdgf4n4g3pfee6491hc0brc4i.apps.googleusercontent.com&redirect_uri=urn%3Aietf%3Awg%3Aoauth%3A2.0%3Aoob&scope=email%20https%3A%2F%2Fwww.googleapis.com%2Fauth%2Fdocs.test%20https%3A%2F%2Fwww.googleapis.com%2Fauth%2Fdrive%20https%3A%2F%2Fwww.googleapis.com%2Fauth%2Fdrive.photos.readonly%20https%3A%2F%2Fwww.googleapis.com%2Fauth%2Fpeopleapi.readonly&response_type=code\n",
            "\n",
            "Enter your authorization code:\n",
            "··········\n",
            "Mounted at /content/drive\n"
          ],
          "name": "stdout"
        }
      ]
    },
    {
      "cell_type": "code",
      "metadata": {
        "id": "-uj48EnLNwBq",
        "colab_type": "code",
        "outputId": "cb5a8be5-8ff6-4d5e-c469-a399bca2fb9c",
        "colab": {
          "base_uri": "https://localhost:8080/",
          "height": 34
        }
      },
      "source": [
        "cp -r '/content/drive/My Drive/Colab Notebooks/OpenNMT-py/memat' '/content/OpenNMT-py'"
      ],
      "execution_count": 0,
      "outputs": [
        {
          "output_type": "stream",
          "text": [
            "cp: cannot stat '/content/drive/My Drive/Colab Notebooks/OpenNMT-py/memat': No such file or directory\n"
          ],
          "name": "stdout"
        }
      ]
    },
    {
      "cell_type": "code",
      "metadata": {
        "id": "G7nY-RyQRaIF",
        "colab_type": "code",
        "outputId": "a47866ba-b520-489a-9862-0eccf53c872c",
        "colab": {
          "base_uri": "https://localhost:8080/",
          "height": 35
        }
      },
      "source": [
        "cd /content/OpenNMT-py"
      ],
      "execution_count": 0,
      "outputs": [
        {
          "output_type": "stream",
          "text": [
            "/content/OpenNMT-py\n"
          ],
          "name": "stdout"
        }
      ]
    },
    {
      "cell_type": "markdown",
      "metadata": {
        "id": "xi-l9HsRVb3-",
        "colab_type": "text"
      },
      "source": [
        "##BPE"
      ]
    },
    {
      "cell_type": "markdown",
      "metadata": {
        "id": "sqRdNSoIW3FU",
        "colab_type": "text"
      },
      "source": [
        "###LEARN BPE"
      ]
    },
    {
      "cell_type": "code",
      "metadata": {
        "id": "_xWhoMCQQSwG",
        "colab_type": "code",
        "colab": {}
      },
      "source": [
        "!python3 tools/learn_bpe.py -i memat/train.xh --output memat/src.code -s 35000"
      ],
      "execution_count": 0,
      "outputs": []
    },
    {
      "cell_type": "code",
      "metadata": {
        "id": "YQ1FUdKiTrDH",
        "colab_type": "code",
        "outputId": "f5c7bf2b-4299-4ee7-a14c-44278027298c",
        "colab": {
          "base_uri": "https://localhost:8080/",
          "height": 35
        }
      },
      "source": [
        "!python3 tools/learn_bpe.py -i memat/train.en --output memat/trg.code -s 35000"
      ],
      "execution_count": 0,
      "outputs": [
        {
          "output_type": "stream",
          "text": [
            "no pair has frequency >= 2. Stopping\n"
          ],
          "name": "stdout"
        }
      ]
    },
    {
      "cell_type": "markdown",
      "metadata": {
        "id": "FbAoPbqoW7qL",
        "colab_type": "text"
      },
      "source": [
        "###TRAIN BPE"
      ]
    },
    {
      "cell_type": "code",
      "metadata": {
        "id": "7ZtzNMy4T7Jd",
        "colab_type": "code",
        "colab": {}
      },
      "source": [
        "!python3 tools/apply_bpe.py -c  memat/src.code -i  memat/train.xh -o memat/train-bpe.xh"
      ],
      "execution_count": 0,
      "outputs": []
    },
    {
      "cell_type": "code",
      "metadata": {
        "id": "WKlTvsgLULkj",
        "colab_type": "code",
        "colab": {}
      },
      "source": [
        "!python3 tools/apply_bpe.py -c  memat/trg.code -i  memat/train.en -o memat/train-bpe.en"
      ],
      "execution_count": 0,
      "outputs": []
    },
    {
      "cell_type": "markdown",
      "metadata": {
        "id": "cyoVk_mcXD2D",
        "colab_type": "text"
      },
      "source": [
        "###TEST BPE"
      ]
    },
    {
      "cell_type": "code",
      "metadata": {
        "id": "D3EQXq9vVWwE",
        "colab_type": "code",
        "colab": {}
      },
      "source": [
        "!python3 tools/apply_bpe.py -c  memat/src.code -i  memat/test.xh -o memat/test-bpe.xh"
      ],
      "execution_count": 0,
      "outputs": []
    },
    {
      "cell_type": "code",
      "metadata": {
        "id": "1UpSuStRVXt8",
        "colab_type": "code",
        "colab": {}
      },
      "source": [
        "!python3 tools/apply_bpe.py -c  memat/trg.code -i  memat/test.en -o memat/test-bpe.en"
      ],
      "execution_count": 0,
      "outputs": []
    },
    {
      "cell_type": "markdown",
      "metadata": {
        "id": "2IWmgirmXQeO",
        "colab_type": "text"
      },
      "source": [
        "###DEV"
      ]
    },
    {
      "cell_type": "code",
      "metadata": {
        "id": "ZBW3S7BEVYqP",
        "colab_type": "code",
        "colab": {}
      },
      "source": [
        "!python3 tools/apply_bpe.py -c  memat/src.code -i  memat/dev.xh -o memat/dev-bpe.xh"
      ],
      "execution_count": 0,
      "outputs": []
    },
    {
      "cell_type": "code",
      "metadata": {
        "id": "SMWYomejXfq-",
        "colab_type": "code",
        "colab": {}
      },
      "source": [
        "!python3 tools/apply_bpe.py -c  memat/trg.code -i  memat/dev.en -o memat/dev-bpe.en"
      ],
      "execution_count": 0,
      "outputs": []
    },
    {
      "cell_type": "markdown",
      "metadata": {
        "id": "KrqihO4fsPQ4",
        "colab_type": "text"
      },
      "source": [
        "##Hardware Config"
      ]
    },
    {
      "cell_type": "code",
      "metadata": {
        "id": "r6aSyNA5go-h",
        "colab_type": "code",
        "colab": {}
      },
      "source": [
        "!nvidia-smi"
      ],
      "execution_count": 0,
      "outputs": []
    },
    {
      "cell_type": "code",
      "metadata": {
        "id": "7cZ4I6-Aaod2",
        "colab_type": "code",
        "colab": {}
      },
      "source": [
        "# !onmt-build-vocab \\\n",
        "# --size 50000 \\\n",
        "# --save_vocab /content/OpenNMT-py/memat/vocab.xh /content/OpenNMT-py/memat/train-bpe.xh"
      ],
      "execution_count": 0,
      "outputs": []
    },
    {
      "cell_type": "code",
      "metadata": {
        "id": "YX3RlvFNdpCO",
        "colab_type": "code",
        "colab": {}
      },
      "source": [
        "# !onmt-build-vocab \\\n",
        "# --size 50000 \\\n",
        "# --save_vocab /content/OpenNMT-py/memat/vocab.en /content/OpenNMT-py/memat/train-bpe.en"
      ],
      "execution_count": 0,
      "outputs": []
    },
    {
      "cell_type": "code",
      "metadata": {
        "id": "UXMWgUMzD-Sc",
        "colab_type": "code",
        "colab": {}
      },
      "source": [
        "ls"
      ],
      "execution_count": 0,
      "outputs": []
    },
    {
      "cell_type": "markdown",
      "metadata": {
        "id": "QCR1ObcRctt2",
        "colab_type": "text"
      },
      "source": [
        "##Preporcessing"
      ]
    },
    {
      "cell_type": "code",
      "metadata": {
        "id": "WuU0fA5-hAkO",
        "colab_type": "code",
        "outputId": "ea08f465-e1b7-4207-eb06-090ab13d7cdb",
        "colab": {
          "base_uri": "https://localhost:8080/",
          "height": 237
        }
      },
      "source": [
        "!python preprocess.py \\\n",
        "-train_src memat/train-bpe.xh \\\n",
        "-train_tgt memat/train-bpe.en \\\n",
        "-valid_src memat/dev-bpe.xh \\\n",
        "-valid_tgt memat/dev-bpe.en \\\n",
        "-save_data memat/data\n",
        "# -log_file OpenNMT-py/data/log/"
      ],
      "execution_count": 0,
      "outputs": [
        {
          "output_type": "stream",
          "text": [
            "[2019-11-11 20:32:21,469 INFO] Extracting features...\n",
            "[2019-11-11 20:32:21,470 INFO]  * number of source features: 0.\n",
            "[2019-11-11 20:32:21,470 INFO]  * number of target features: 0.\n",
            "[2019-11-11 20:32:21,470 INFO] Building `Fields` object...\n",
            "[2019-11-11 20:32:21,470 INFO] Building & saving training data...\n",
            "[2019-11-11 20:32:21,701 INFO] Building shard 0.\n",
            "[2019-11-11 20:32:26,291 INFO]  * saving 0th train data shard to memat/data.train.0.pt.\n",
            "[2019-11-11 20:32:30,291 INFO]  * tgt vocab size: 27167.\n",
            "[2019-11-11 20:32:30,345 INFO]  * src vocab size: 34753.\n",
            "[2019-11-11 20:32:30,528 INFO] Building & saving validation data...\n",
            "[2019-11-11 20:32:30,675 INFO] Building shard 0.\n",
            "[2019-11-11 20:32:31,164 INFO]  * saving 0th valid data shard to memat/data.valid.0.pt.\n"
          ],
          "name": "stdout"
        }
      ]
    },
    {
      "cell_type": "markdown",
      "metadata": {
        "id": "egUtIDbUcyr0",
        "colab_type": "text"
      },
      "source": [
        "## Training"
      ]
    },
    {
      "cell_type": "code",
      "metadata": {
        "id": "JM7ztYs6lmXi",
        "colab_type": "code",
        "colab": {}
      },
      "source": [
        "!python train.py \\\n",
        "-data memat/data \\\n",
        "-save_model memat/model \\\n",
        "-layers 6 -rnn_size 512 \\\n",
        "-word_vec_size 512 \\\n",
        "-transformer_ff 2048 \\\n",
        "-heads 8 \\\n",
        "-encoder_type transformer \\\n",
        "-decoder_type transformer \\\n",
        "-position_encoding \\\n",
        "-train_steps 15000 \\\n",
        "-max_generator_batches 2 \\\n",
        "-dropout 0.1 \\\n",
        "-batch_size 4096 \\\n",
        "-batch_type tokens \\\n",
        "-normalization tokens \\\n",
        "-accum_count 2 \\\n",
        "-optim adam \\\n",
        "-adam_beta2 0.998 \\\n",
        "-decay_method noam \\\n",
        "-warmup_steps 8000 \\\n",
        "-learning_rate 2 \\\n",
        "-max_grad_norm 0 \\\n",
        "-param_init 0 \\\n",
        "-param_init_glorot \\\n",
        "-label_smoothing 0.1 \\\n",
        "-valid_steps 1000 \\\n",
        "-save_checkpoint_steps 1000 \\\n",
        "-log_file memat/log \\\n",
        "-tensorboard_log_dir memat/log \\\n",
        "-world_size 1 \\\n",
        "-gpu_rank 0"
      ],
      "execution_count": 0,
      "outputs": []
    },
    {
      "cell_type": "code",
      "metadata": {
        "id": "-i_j2q2Lnnq8",
        "colab_type": "code",
        "colab": {}
      },
      "source": [
        "# import datetime\n",
        "# import torch\n",
        "# import torch.nn as nn\n",
        "# import torch.nn.functional as F\n",
        "# import torch.optim as optim\n",
        "# from torch.utils.data import Dataset, DataLoader\n",
        "# from torchvision import transforms, utils, datasets\n",
        "# from tensorflow import summary"
      ],
      "execution_count": 0,
      "outputs": []
    },
    {
      "cell_type": "code",
      "metadata": {
        "id": "Kspkrl28sjf6",
        "colab_type": "code",
        "colab": {}
      },
      "source": [
        "%load_ext tensorboard"
      ],
      "execution_count": 0,
      "outputs": []
    },
    {
      "cell_type": "code",
      "metadata": {
        "id": "nGwSIbvVsoYN",
        "colab_type": "code",
        "colab": {}
      },
      "source": [
        "%tensorboard --logdir /content/OpenNMT-py/memat/log"
      ],
      "execution_count": 0,
      "outputs": []
    },
    {
      "cell_type": "markdown",
      "metadata": {
        "colab_type": "text",
        "id": "DM643uJSOXuL"
      },
      "source": [
        "##Translate with Bype Pair beam 1"
      ]
    },
    {
      "cell_type": "code",
      "metadata": {
        "colab_type": "code",
        "id": "ihQjSWmdOXuk",
        "colab": {}
      },
      "source": [
        "#@title Default title text\n",
        "!python translate.py \\\n",
        "-model memat/model_step_9000.pt \\\n",
        "-src memat/test-bpe.xh \\\n",
        "-output memat/pred.txt \\\n",
        "-replace_unk \\\n",
        "-verbose \\\n",
        "-beam_size 1"
      ],
      "execution_count": 0,
      "outputs": []
    },
    {
      "cell_type": "code",
      "metadata": {
        "colab_type": "code",
        "id": "QULzin2UOXu6",
        "colab": {}
      },
      "source": [
        "!sed -i \"s/@@ //g\"  memat/pred.txt"
      ],
      "execution_count": 0,
      "outputs": []
    },
    {
      "cell_type": "code",
      "metadata": {
        "colab_type": "code",
        "id": "MsEhXV6EOXvK",
        "outputId": "95b7a424-abf3-4eed-8145-34175cbcfd1c",
        "colab": {
          "base_uri": "https://localhost:8080/",
          "height": 35
        }
      },
      "source": [
        "!perl  tools/multi-bleu.perl memat/test-bpe.en <memat/pred.txt"
      ],
      "execution_count": 0,
      "outputs": [
        {
          "output_type": "stream",
          "text": [
            "BLEU = 16.96, 42.5/20.2/12.1/8.0 (BP=1.000, ratio=1.051, hyp_len=98594, ref_len=93823)\n"
          ],
          "name": "stdout"
        }
      ]
    },
    {
      "cell_type": "markdown",
      "metadata": {
        "id": "UbjzDkISc-nJ",
        "colab_type": "text"
      },
      "source": [
        "##Translate with Bype Pair beam 5"
      ]
    },
    {
      "cell_type": "code",
      "metadata": {
        "id": "7M6DSWzS9HjT",
        "colab_type": "code",
        "colab": {}
      },
      "source": [
        "#@title Default title text\n",
        "!python translate.py \\\n",
        "-model memat/model_step_9000.pt \\\n",
        "-src memat/test-bpe.xh \\\n",
        "-output memat/pred.txt \\\n",
        "-replace_unk \\\n",
        "-verbose \\\n",
        "-beam_size 5"
      ],
      "execution_count": 0,
      "outputs": []
    },
    {
      "cell_type": "code",
      "metadata": {
        "id": "wsXqFGimFjIV",
        "colab_type": "code",
        "colab": {}
      },
      "source": [
        "!sed -i \"s/@@ //g\"  memat/pred.txt"
      ],
      "execution_count": 0,
      "outputs": []
    },
    {
      "cell_type": "code",
      "metadata": {
        "id": "45j7uZJnFu1F",
        "colab_type": "code",
        "outputId": "e86f6e7c-1678-4789-b66f-4da9c1699669",
        "colab": {
          "base_uri": "https://localhost:8080/",
          "height": 35
        }
      },
      "source": [
        "!perl  tools/multi-bleu.perl memat/test-bpe.en <memat/pred.txt"
      ],
      "execution_count": 0,
      "outputs": [
        {
          "output_type": "stream",
          "text": [
            "BLEU = 18.07, 50.2/25.4/15.8/10.7 (BP=0.840, ratio=0.852, hyp_len=79923, ref_len=93823)\n"
          ],
          "name": "stdout"
        }
      ]
    },
    {
      "cell_type": "markdown",
      "metadata": {
        "id": "YvIESRjQLFLv",
        "colab_type": "text"
      },
      "source": [
        "##Translate with Bype Pair beam 1"
      ]
    },
    {
      "cell_type": "markdown",
      "metadata": {
        "id": "lU_decrjOqL7",
        "colab_type": "text"
      },
      "source": [
        "##Other Bleu Metric"
      ]
    },
    {
      "cell_type": "code",
      "metadata": {
        "id": "qNgVQNolINMo",
        "colab_type": "code",
        "outputId": "f623823f-c2e9-44dc-ada6-e758aa9a458f",
        "colab": {
          "base_uri": "https://localhost:8080/",
          "height": 85
        }
      },
      "source": [
        "!git clone https://github.com/DataTurks-Engg/Neural_Machine_Translation.git"
      ],
      "execution_count": 0,
      "outputs": [
        {
          "output_type": "stream",
          "text": [
            "Cloning into 'Neural_Machine_Translation'...\n",
            "remote: Enumerating objects: 8, done.\u001b[K\n",
            "remote: Total 8 (delta 0), reused 0 (delta 0), pack-reused 8\n",
            "Unpacking objects: 100% (8/8), done.\n"
          ],
          "name": "stdout"
        }
      ]
    },
    {
      "cell_type": "code",
      "metadata": {
        "id": "e5h4-BK4JWN3",
        "colab_type": "code",
        "colab": {}
      },
      "source": [
        "#Same a above\n",
        "!python /content/Neural_Machine_Translation/calculatebleu.py \"memat/pred.txt\" \"memat/test.en\""
      ],
      "execution_count": 0,
      "outputs": []
    },
    {
      "cell_type": "code",
      "metadata": {
        "id": "mxUyfY1vMa8Q",
        "colab_type": "code",
        "outputId": "2420c76e-bfb5-4517-887f-d1d686a80d4d",
        "colab": {
          "base_uri": "https://localhost:8080/",
          "height": 136
        }
      },
      "source": [
        "!git clone https://github.com/Maluuba/nlg-eval.git"
      ],
      "execution_count": 0,
      "outputs": [
        {
          "output_type": "stream",
          "text": [
            "Cloning into 'nlg-eval'...\n",
            "remote: Enumerating objects: 29, done.\u001b[K\n",
            "remote: Counting objects:   3% (1/29)\u001b[K\rremote: Counting objects:   6% (2/29)\u001b[K\rremote: Counting objects:  10% (3/29)\u001b[K\rremote: Counting objects:  13% (4/29)\u001b[K\rremote: Counting objects:  17% (5/29)\u001b[K\rremote: Counting objects:  20% (6/29)\u001b[K\rremote: Counting objects:  24% (7/29)\u001b[K\rremote: Counting objects:  27% (8/29)\u001b[K\rremote: Counting objects:  31% (9/29)\u001b[K\rremote: Counting objects:  34% (10/29)\u001b[K\rremote: Counting objects:  37% (11/29)\u001b[K\rremote: Counting objects:  41% (12/29)\u001b[K\rremote: Counting objects:  44% (13/29)\u001b[K\rremote: Counting objects:  48% (14/29)\u001b[K\rremote: Counting objects:  51% (15/29)\u001b[K\rremote: Counting objects:  55% (16/29)\u001b[K\rremote: Counting objects:  58% (17/29)\u001b[K\rremote: Counting objects:  62% (18/29)\u001b[K\rremote: Counting objects:  65% (19/29)\u001b[K\rremote: Counting objects:  68% (20/29)\u001b[K\rremote: Counting objects:  72% (21/29)\u001b[K\rremote: Counting objects:  75% (22/29)\u001b[K\rremote: Counting objects:  79% (23/29)\u001b[K\rremote: Counting objects:  82% (24/29)\u001b[K\rremote: Counting objects:  86% (25/29)\u001b[K\rremote: Counting objects:  89% (26/29)\u001b[K\rremote: Counting objects:  93% (27/29)\u001b[K\rremote: Counting objects:  96% (28/29)\u001b[K\rremote: Counting objects: 100% (29/29)\u001b[K\rremote: Counting objects: 100% (29/29), done.\u001b[K\n",
            "remote: Compressing objects: 100% (25/25), done.\u001b[K\n",
            "remote: Total 337 (delta 9), reused 12 (delta 3), pack-reused 308\u001b[K\n",
            "Receiving objects: 100% (337/337), 65.11 MiB | 26.98 MiB/s, done.\n",
            "Resolving deltas: 100% (153/153), done.\n"
          ],
          "name": "stdout"
        }
      ]
    },
    {
      "cell_type": "code",
      "metadata": {
        "id": "r5KWLBDyg5AF",
        "colab_type": "code",
        "outputId": "83d29bda-db25-4e62-a0af-f19e25d16231",
        "colab": {
          "base_uri": "https://localhost:8080/",
          "height": 34
        }
      },
      "source": [
        "cd /content/OpenNMT-py/nlg-eval/\n"
      ],
      "execution_count": 0,
      "outputs": [
        {
          "output_type": "stream",
          "text": [
            "/content/OpenNMT-py/nlg-eval\n"
          ],
          "name": "stdout"
        }
      ]
    },
    {
      "cell_type": "code",
      "metadata": {
        "id": "0h3m1w9ag3wX",
        "colab_type": "code",
        "outputId": "17307646-cd89-4493-8b9a-93b0b0b6306a",
        "colab": {
          "base_uri": "https://localhost:8080/",
          "height": 595
        }
      },
      "source": [
        "from nlgeval import compute_metrics\n",
        "metrics_dict = compute_metrics(hypothesis='/content/OpenNMT-py/memat/pred.txt',\n",
        "                               references=[ '/content/OpenNMT-py/memat/test.en'])"
      ],
      "execution_count": 0,
      "outputs": [
        {
          "output_type": "stream",
          "text": [
            "Bleu_1: 0.428184\n",
            "Bleu_2: 0.304565\n",
            "Bleu_3: 0.232139\n",
            "Bleu_4: 0.183868\n",
            "METEOR: 0.199543\n",
            "ROUGE_L: 0.345280\n",
            "CIDEr: 1.310515\n"
          ],
          "name": "stdout"
        },
        {
          "output_type": "error",
          "ename": "ModuleNotFoundError",
          "evalue": "ignored",
          "traceback": [
            "\u001b[0;31m---------------------------------------------------------------------------\u001b[0m",
            "\u001b[0;31mModuleNotFoundError\u001b[0m                       Traceback (most recent call last)",
            "\u001b[0;32m<ipython-input-17-32da30eab9ef>\u001b[0m in \u001b[0;36m<module>\u001b[0;34m()\u001b[0m\n\u001b[1;32m      1\u001b[0m \u001b[0;32mfrom\u001b[0m \u001b[0mnlgeval\u001b[0m \u001b[0;32mimport\u001b[0m \u001b[0mcompute_metrics\u001b[0m\u001b[0;34m\u001b[0m\u001b[0;34m\u001b[0m\u001b[0m\n\u001b[1;32m      2\u001b[0m metrics_dict = compute_metrics(hypothesis='/content/OpenNMT-py/memat/pred.txt',\n\u001b[0;32m----> 3\u001b[0;31m                                references=[ '/content/OpenNMT-py/memat/test.en'])\n\u001b[0m",
            "\u001b[0;32m/content/OpenNMT-py/nlg-eval/nlgeval/__init__.py\u001b[0m in \u001b[0;36mcompute_metrics\u001b[0;34m(hypothesis, references, no_overlap, no_skipthoughts, no_glove)\u001b[0m\n\u001b[1;32m     49\u001b[0m \u001b[0;34m\u001b[0m\u001b[0m\n\u001b[1;32m     50\u001b[0m     \u001b[0;32mif\u001b[0m \u001b[0;32mnot\u001b[0m \u001b[0mno_skipthoughts\u001b[0m\u001b[0;34m:\u001b[0m\u001b[0;34m\u001b[0m\u001b[0;34m\u001b[0m\u001b[0m\n\u001b[0;32m---> 51\u001b[0;31m         \u001b[0;32mfrom\u001b[0m \u001b[0mnlgeval\u001b[0m\u001b[0;34m.\u001b[0m\u001b[0mskipthoughts\u001b[0m \u001b[0;32mimport\u001b[0m \u001b[0mskipthoughts\u001b[0m\u001b[0;34m\u001b[0m\u001b[0;34m\u001b[0m\u001b[0m\n\u001b[0m\u001b[1;32m     52\u001b[0m         \u001b[0;32mimport\u001b[0m \u001b[0mnumpy\u001b[0m \u001b[0;32mas\u001b[0m \u001b[0mnp\u001b[0m\u001b[0;34m\u001b[0m\u001b[0;34m\u001b[0m\u001b[0m\n\u001b[1;32m     53\u001b[0m         \u001b[0;32mfrom\u001b[0m \u001b[0msklearn\u001b[0m\u001b[0;34m.\u001b[0m\u001b[0mmetrics\u001b[0m\u001b[0;34m.\u001b[0m\u001b[0mpairwise\u001b[0m \u001b[0;32mimport\u001b[0m \u001b[0mcosine_similarity\u001b[0m\u001b[0;34m\u001b[0m\u001b[0;34m\u001b[0m\u001b[0m\n",
            "\u001b[0;32m/content/OpenNMT-py/nlg-eval/nlgeval/skipthoughts/skipthoughts.py\u001b[0m in \u001b[0;36m<module>\u001b[0;34m()\u001b[0m\n\u001b[1;32m     14\u001b[0m \u001b[0;32mfrom\u001b[0m \u001b[0mscipy\u001b[0m\u001b[0;34m.\u001b[0m\u001b[0mlinalg\u001b[0m \u001b[0;32mimport\u001b[0m \u001b[0mnorm\u001b[0m\u001b[0;34m\u001b[0m\u001b[0;34m\u001b[0m\u001b[0m\n\u001b[1;32m     15\u001b[0m \u001b[0;32mfrom\u001b[0m \u001b[0msix\u001b[0m\u001b[0;34m.\u001b[0m\u001b[0mmoves\u001b[0m \u001b[0;32mimport\u001b[0m \u001b[0mcPickle\u001b[0m \u001b[0;32mas\u001b[0m \u001b[0mpkl\u001b[0m\u001b[0;34m\u001b[0m\u001b[0;34m\u001b[0m\u001b[0m\n\u001b[0;32m---> 16\u001b[0;31m \u001b[0;32mfrom\u001b[0m \u001b[0mnlgeval\u001b[0m\u001b[0;34m.\u001b[0m\u001b[0mutils\u001b[0m \u001b[0;32mimport\u001b[0m \u001b[0mget_data_dir\u001b[0m\u001b[0;34m\u001b[0m\u001b[0;34m\u001b[0m\u001b[0m\n\u001b[0m\u001b[1;32m     17\u001b[0m \u001b[0;32mimport\u001b[0m \u001b[0mlogging\u001b[0m\u001b[0;34m\u001b[0m\u001b[0;34m\u001b[0m\u001b[0m\n\u001b[1;32m     18\u001b[0m \u001b[0;34m\u001b[0m\u001b[0m\n",
            "\u001b[0;32m/content/OpenNMT-py/nlg-eval/nlgeval/utils.py\u001b[0m in \u001b[0;36m<module>\u001b[0;34m()\u001b[0m\n\u001b[1;32m      3\u001b[0m \u001b[0;32mimport\u001b[0m \u001b[0mos\u001b[0m\u001b[0;34m\u001b[0m\u001b[0;34m\u001b[0m\u001b[0m\n\u001b[1;32m      4\u001b[0m \u001b[0;34m\u001b[0m\u001b[0m\n\u001b[0;32m----> 5\u001b[0;31m \u001b[0;32mfrom\u001b[0m \u001b[0mxdg\u001b[0m \u001b[0;32mimport\u001b[0m \u001b[0mXDG_CONFIG_HOME\u001b[0m\u001b[0;34m\u001b[0m\u001b[0;34m\u001b[0m\u001b[0m\n\u001b[0m\u001b[1;32m      6\u001b[0m \u001b[0;34m\u001b[0m\u001b[0m\n\u001b[1;32m      7\u001b[0m \u001b[0;34m\u001b[0m\u001b[0m\n",
            "\u001b[0;31mModuleNotFoundError\u001b[0m: No module named 'xdg'",
            "",
            "\u001b[0;31m---------------------------------------------------------------------------\u001b[0;32m\nNOTE: If your import is failing due to a missing package, you can\nmanually install dependencies using either !pip or !apt.\n\nTo view examples of installing some common dependencies, click the\n\"Open Examples\" button below.\n\u001b[0;31m---------------------------------------------------------------------------\u001b[0m\n"
          ]
        }
      ]
    },
    {
      "cell_type": "code",
      "metadata": {
        "id": "fOOzhXykVrBW",
        "colab_type": "code",
        "outputId": "d6321824-c77b-4be4-9902-b11c16deb3bd",
        "colab": {
          "base_uri": "https://localhost:8080/",
          "height": 136
        }
      },
      "source": [
        "!git clone https://github.com/facebookresearch/vizseq"
      ],
      "execution_count": 0,
      "outputs": [
        {
          "output_type": "stream",
          "text": [
            "Cloning into 'vizseq'...\n",
            "remote: Enumerating objects: 218, done.\u001b[K\n",
            "remote: Counting objects:   0% (1/218)\u001b[K\rremote: Counting objects:   1% (3/218)\u001b[K\rremote: Counting objects:   2% (5/218)\u001b[K\rremote: Counting objects:   3% (7/218)\u001b[K\rremote: Counting objects:   4% (9/218)\u001b[K\rremote: Counting objects:   5% (11/218)\u001b[K\rremote: Counting objects:   6% (14/218)\u001b[K\rremote: Counting objects:   7% (16/218)\u001b[K\rremote: Counting objects:   8% (18/218)\u001b[K\rremote: Counting objects:   9% (20/218)\u001b[K\rremote: Counting objects:  10% (22/218)\u001b[K\rremote: Counting objects:  11% (24/218)\u001b[K\rremote: Counting objects:  12% (27/218)\u001b[K\rremote: Counting objects:  13% (29/218)\u001b[K\rremote: Counting objects:  14% (31/218)\u001b[K\rremote: Counting objects:  15% (33/218)\u001b[K\rremote: Counting objects:  16% (35/218)\u001b[K\rremote: Counting objects:  17% (38/218)\u001b[K\rremote: Counting objects:  18% (40/218)\u001b[K\rremote: Counting objects:  19% (42/218)\u001b[K\rremote: Counting objects:  20% (44/218)\u001b[K\rremote: Counting objects:  21% (46/218)\u001b[K\rremote: Counting objects:  22% (48/218)\u001b[K\rremote: Counting objects:  23% (51/218)\u001b[K\rremote: Counting objects:  24% (53/218)\u001b[K\rremote: Counting objects:  25% (55/218)\u001b[K\rremote: Counting objects:  26% (57/218)\u001b[K\rremote: Counting objects:  27% (59/218)\u001b[K\rremote: Counting objects:  28% (62/218)\u001b[K\rremote: Counting objects:  29% (64/218)\u001b[K\rremote: Counting objects:  30% (66/218)\u001b[K\rremote: Counting objects:  31% (68/218)\u001b[K\rremote: Counting objects:  32% (70/218)\u001b[K\rremote: Counting objects:  33% (72/218)\u001b[K\rremote: Counting objects:  34% (75/218)\u001b[K\rremote: Counting objects:  35% (77/218)\u001b[K\rremote: Counting objects:  36% (79/218)\u001b[K\rremote: Counting objects:  37% (81/218)\u001b[K\rremote: Counting objects:  38% (83/218)\u001b[K\rremote: Counting objects:  39% (86/218)\u001b[K\rremote: Counting objects:  40% (88/218)\u001b[K\rremote: Counting objects:  41% (90/218)\u001b[K\rremote: Counting objects:  42% (92/218)\u001b[K\rremote: Counting objects:  43% (94/218)\u001b[K\rremote: Counting objects:  44% (96/218)\u001b[K\rremote: Counting objects:  45% (99/218)\u001b[K\rremote: Counting objects:  46% (101/218)\rremote: Counting objects:  47% (103/218)\u001b[K\rremote: Counting objects:  48% (105/218)\u001b[K\rremote: Counting objects:  49% (107/218)\u001b[K\rremote: Counting objects:  50% (109/218)\u001b[K\rremote: Counting objects:  51% (112/218)\u001b[K\rremote: Counting objects:  52% (114/218)\u001b[K\rremote: Counting objects:  53% (116/218)\u001b[K\rremote: Counting objects:  54% (118/218)\u001b[K\rremote: Counting objects:  55% (120/218)\u001b[K\rremote: Counting objects:  56% (123/218)\u001b[K\rremote: Counting objects:  57% (125/218)\u001b[K\rremote: Counting objects:  58% (127/218)\u001b[K\rremote: Counting objects:  59% (129/218)\u001b[K\rremote: Counting objects:  60% (131/218)\u001b[K\rremote: Counting objects:  61% (133/218)\u001b[K\rremote: Counting objects:  62% (136/218)\u001b[K\rremote: Counting objects:  63% (138/218)\u001b[K\rremote: Counting objects:  64% (140/218)\u001b[K\rremote: Counting objects:  65% (142/218)\u001b[K\rremote: Counting objects:  66% (144/218)\u001b[K\rremote: Counting objects:  67% (147/218)\u001b[K\rremote: Counting objects:  68% (149/218)\u001b[K\rremote: Counting objects:  69% (151/218)\u001b[K\rremote: Counting objects:  70% (153/218)\u001b[K\rremote: Counting objects:  71% (155/218)\u001b[K\rremote: Counting objects:  72% (157/218)\u001b[K\rremote: Counting objects:  73% (160/218)\u001b[K\rremote: Counting objects:  74% (162/218)\u001b[K\rremote: Counting objects:  75% (164/218)\u001b[K\rremote: Counting objects:  76% (166/218)\u001b[K\rremote: Counting objects:  77% (168/218)\u001b[K\rremote: Counting objects:  78% (171/218)\u001b[K\rremote: Counting objects:  79% (173/218)\u001b[K\rremote: Counting objects:  80% (175/218)\u001b[K\rremote: Counting objects:  81% (177/218)\u001b[K\rremote: Counting objects:  82% (179/218)\u001b[K\rremote: Counting objects:  83% (181/218)\u001b[K\rremote: Counting objects:  84% (184/218)\u001b[K\rremote: Counting objects:  85% (186/218)\u001b[K\rremote: Counting objects:  86% (188/218)\u001b[K\rremote: Counting objects:  87% (190/218)\u001b[K\rremote: Counting objects:  88% (192/218)\u001b[K\rremote: Counting objects:  89% (195/218)\u001b[K\rremote: Counting objects:  90% (197/218)\u001b[K\rremote: Counting objects:  91% (199/218)\u001b[K\rremote: Counting objects:  92% (201/218)\u001b[K\rremote: Counting objects:  93% (203/218)\u001b[K\rremote: Counting objects:  94% (205/218)\u001b[K\rremote: Counting objects:  95% (208/218)\u001b[K\rremote: Counting objects:  96% (210/218)\u001b[K\rremote: Counting objects:  97% (212/218)\u001b[K\rremote: Counting objects:  98% (214/218)\u001b[K\rremote: Counting objects:  99% (216/218)\u001b[K\rremote: Counting objects: 100% (218/218)\u001b[K\rremote: Counting objects: 100% (218/218), done.\u001b[K\n",
            "remote: Compressing objects: 100% (125/125), done.\u001b[K\n",
            "remote: Total 888 (delta 83), reused 165 (delta 61), pack-reused 670\u001b[K\n",
            "Receiving objects: 100% (888/888), 15.95 MiB | 28.51 MiB/s, done.\n",
            "Resolving deltas: 100% (444/444), done.\n"
          ],
          "name": "stdout"
        }
      ]
    },
    {
      "cell_type": "code",
      "metadata": {
        "id": "YK0niuIrWHwD",
        "colab_type": "code",
        "outputId": "d144786d-d525-4ec5-8c61-21d4aaa1f381",
        "colab": {
          "base_uri": "https://localhost:8080/",
          "height": 34
        }
      },
      "source": [
        "cd vizseq"
      ],
      "execution_count": 0,
      "outputs": [
        {
          "output_type": "stream",
          "text": [
            "/content/vizseq\n"
          ],
          "name": "stdout"
        }
      ]
    },
    {
      "cell_type": "code",
      "metadata": {
        "id": "EP-50OnOWQUy",
        "colab_type": "code",
        "colab": {}
      },
      "source": [
        "from glob import glob\n",
        "root = '/content/OpenNMT-py/'\n",
        "src, ref, hypo = glob(f'/content/OpenNMT-py/test-bpe.xh'), glob(f'/content/OpenNMT-py/test-bpe.en'), glob(f'/content/OpenNMT-py/pred.txt')"
      ],
      "execution_count": 0,
      "outputs": []
    },
    {
      "cell_type": "code",
      "metadata": {
        "id": "XpR9I9hsWa7p",
        "colab_type": "code",
        "colab": {}
      },
      "source": [
        "from typing import List, Dict\n",
        "import os.path as op\n",
        "from glob import glob\n",
        "def reader(paths: List[str]) -> Dict[str, List[str]]:\n",
        "    data = {}\n",
        "    for path in paths:\n",
        "        name = str(op.splitext(op.basename(path))[0]).split('_', 1)[1]\n",
        "        with open(path) as f:\n",
        "            data[name] = [l.strip() for l in f]\n",
        "    return data\n",
        "root = '/content/OpenNMT-py/'\n",
        "src = reader(glob(f'/content/OpenNMT-py/test-bpe.xh'))\n",
        "ref = reader(glob(f'/content/OpenNMT-py/test-bpe.en'))\n",
        "hypo = reader(glob(f'/content/OpenNMT-pypred.txt'))"
      ],
      "execution_count": 0,
      "outputs": []
    },
    {
      "cell_type": "code",
      "metadata": {
        "id": "RIz5fIUh27wR",
        "colab_type": "code",
        "colab": {}
      },
      "source": [
        ""
      ],
      "execution_count": 0,
      "outputs": []
    }
  ]
}